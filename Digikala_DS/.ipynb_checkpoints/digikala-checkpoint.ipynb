{
 "cells": [
  {
   "cell_type": "code",
   "execution_count": 1,
   "metadata": {},
   "outputs": [],
   "source": [
    "import pandas as pd\n",
    "import matplotlib.pyplot as plt\n",
    "import numpy as np"
   ]
  },
  {
   "cell_type": "code",
   "execution_count": 2,
   "metadata": {},
   "outputs": [],
   "source": [
    "path = r'E:\\Scientific_DS\\Datasets\\digikala\\digikala3\\3-p5s3708k.csv'"
   ]
  },
  {
   "cell_type": "code",
   "execution_count": 3,
   "metadata": {},
   "outputs": [],
   "source": [
    "data = pd.read_csv('E:/Scientific_DS/Datasets/digikala/digikala/3-p5s3708k.csv')"
   ]
  },
  {
   "cell_type": "code",
   "execution_count": 4,
   "metadata": {},
   "outputs": [
    {
     "name": "stdout",
     "output_type": "stream",
     "text": [
      "<class 'pandas.core.frame.DataFrame'>\n",
      "RangeIndex: 200000 entries, 0 to 199999\n",
      "Data columns (total 7 columns):\n",
      "ID_Order                 200000 non-null int64\n",
      "ID_Customer              200000 non-null int64\n",
      "ID_Item                  200000 non-null int64\n",
      "DateTime_CartFinalize    200000 non-null object\n",
      "Amount_Gross_Order       200000 non-null float64\n",
      "city_name_fa             200000 non-null object\n",
      "Quantity_item            200000 non-null float64\n",
      "dtypes: float64(2), int64(3), object(2)\n",
      "memory usage: 10.7+ MB\n"
     ]
    }
   ],
   "source": [
    "data.info()"
   ]
  },
  {
   "cell_type": "code",
   "execution_count": 5,
   "metadata": {},
   "outputs": [
    {
     "data": {
      "text/html": [
       "<div>\n",
       "<style scoped>\n",
       "    .dataframe tbody tr th:only-of-type {\n",
       "        vertical-align: middle;\n",
       "    }\n",
       "\n",
       "    .dataframe tbody tr th {\n",
       "        vertical-align: top;\n",
       "    }\n",
       "\n",
       "    .dataframe thead th {\n",
       "        text-align: right;\n",
       "    }\n",
       "</style>\n",
       "<table border=\"1\" class=\"dataframe\">\n",
       "  <thead>\n",
       "    <tr style=\"text-align: right;\">\n",
       "      <th></th>\n",
       "      <th>ID_Order</th>\n",
       "      <th>ID_Customer</th>\n",
       "      <th>ID_Item</th>\n",
       "      <th>DateTime_CartFinalize</th>\n",
       "      <th>Amount_Gross_Order</th>\n",
       "      <th>city_name_fa</th>\n",
       "      <th>Quantity_item</th>\n",
       "    </tr>\n",
       "  </thead>\n",
       "  <tbody>\n",
       "    <tr>\n",
       "      <th>0</th>\n",
       "      <td>2714054</td>\n",
       "      <td>469662</td>\n",
       "      <td>21386</td>\n",
       "      <td>2015-10-15 08:50:56.000</td>\n",
       "      <td>597982.0</td>\n",
       "      <td>محمود آباد</td>\n",
       "      <td>1.0</td>\n",
       "    </tr>\n",
       "    <tr>\n",
       "      <th>1</th>\n",
       "      <td>11104039</td>\n",
       "      <td>3063877</td>\n",
       "      <td>248497</td>\n",
       "      <td>2018-02-11 00:29:26.000</td>\n",
       "      <td>980000.0</td>\n",
       "      <td>خرمدره</td>\n",
       "      <td>1.0</td>\n",
       "    </tr>\n",
       "    <tr>\n",
       "      <th>2</th>\n",
       "      <td>4228130</td>\n",
       "      <td>3184893</td>\n",
       "      <td>50144</td>\n",
       "      <td>2016-06-14 00:30:08.000</td>\n",
       "      <td>229358.0</td>\n",
       "      <td>قرچک</td>\n",
       "      <td>1.0</td>\n",
       "    </tr>\n",
       "    <tr>\n",
       "      <th>3</th>\n",
       "      <td>22225624</td>\n",
       "      <td>6888562</td>\n",
       "      <td>70208</td>\n",
       "      <td>2018-09-03 14:37:19.000</td>\n",
       "      <td>16514.0</td>\n",
       "      <td>قم</td>\n",
       "      <td>1.0</td>\n",
       "    </tr>\n",
       "    <tr>\n",
       "      <th>4</th>\n",
       "      <td>4068771</td>\n",
       "      <td>2533490</td>\n",
       "      <td>67627</td>\n",
       "      <td>2016-05-21 11:51:02.000</td>\n",
       "      <td>133028.0</td>\n",
       "      <td>تهران</td>\n",
       "      <td>1.0</td>\n",
       "    </tr>\n",
       "  </tbody>\n",
       "</table>\n",
       "</div>"
      ],
      "text/plain": [
       "   ID_Order  ID_Customer  ID_Item    DateTime_CartFinalize  \\\n",
       "0   2714054       469662    21386  2015-10-15 08:50:56.000   \n",
       "1  11104039      3063877   248497  2018-02-11 00:29:26.000   \n",
       "2   4228130      3184893    50144  2016-06-14 00:30:08.000   \n",
       "3  22225624      6888562    70208  2018-09-03 14:37:19.000   \n",
       "4   4068771      2533490    67627  2016-05-21 11:51:02.000   \n",
       "\n",
       "   Amount_Gross_Order city_name_fa  Quantity_item  \n",
       "0            597982.0   محمود آباد            1.0  \n",
       "1            980000.0       خرمدره            1.0  \n",
       "2            229358.0         قرچک            1.0  \n",
       "3             16514.0           قم            1.0  \n",
       "4            133028.0        تهران            1.0  "
      ]
     },
     "execution_count": 5,
     "metadata": {},
     "output_type": "execute_result"
    }
   ],
   "source": [
    "data.head()"
   ]
  },
  {
   "cell_type": "code",
   "execution_count": 6,
   "metadata": {},
   "outputs": [],
   "source": [
    "Customer_shoping_number=data.ID_Customer.value_counts()"
   ]
  },
  {
   "cell_type": "code",
   "execution_count": 7,
   "metadata": {},
   "outputs": [],
   "source": [
    "csn2 = (Customer_shoping_number.values>=2)\n",
    "csn1 = (Customer_shoping_number.values==1)"
   ]
  },
  {
   "cell_type": "code",
   "execution_count": 8,
   "metadata": {},
   "outputs": [],
   "source": [
    "indx=['1','2']\n",
    "vlu = [sum(csn1), sum(csn2)]"
   ]
  },
  {
   "cell_type": "code",
   "execution_count": 9,
   "metadata": {},
   "outputs": [
    {
     "data": {
      "text/plain": [
       "<BarContainer object of 2 artists>"
      ]
     },
     "execution_count": 9,
     "metadata": {},
     "output_type": "execute_result"
    },
    {
     "data": {
      "image/png": "[encoded data removed]",
      "text/plain": [
       "<Figure size 432x288 with 1 Axes>"
      ]
     },
     "metadata": {},
     "output_type": "display_data"
    },
    {
     "data": {
      "image/png": "[encoded data removed]",
      "text/plain": [
       "<Figure size 432x288 with 1 Axes>"
      ]
     },
     "metadata": {
      "needs_background": "light"
     },
     "output_type": "display_data"
    }
   ],
   "source": [
    "fig1,ax1= plt.subplots()\n",
    "ax1.pie(vlu,labels=indx, autopct='%1.2f%%',\n",
    "        shadow=True, startangle=90)\n",
    "ax1.axis('equal')  # Equal aspect ratio ensures that pie is drawn as a circle.\n",
    "fig1,ax2= plt.subplots()\n",
    "ax2.bar(indx, vlu)"
   ]
  },
  {
   "cell_type": "code",
   "execution_count": 10,
   "metadata": {},
   "outputs": [
    {
     "data": {
      "text/plain": [
       "291640808763.0"
      ]
     },
     "execution_count": 10,
     "metadata": {},
     "output_type": "execute_result"
    }
   ],
   "source": [
    "data.Amount_Gross_Order.sum()"
   ]
  },
  {
   "cell_type": "code",
   "execution_count": 11,
   "metadata": {},
   "outputs": [],
   "source": [
    "two_buy = Customer_shoping_number[Customer_shoping_number.values>=2].keys()\n",
    "one_buy = Customer_shoping_number[Customer_shoping_number.values==1].keys()"
   ]
  },
  {
   "cell_type": "code",
   "execution_count": 12,
   "metadata": {},
   "outputs": [],
   "source": [
    "two_buy = list(two_buy)"
   ]
  },
  {
   "cell_type": "code",
   "execution_count": 13,
   "metadata": {},
   "outputs": [
    {
     "data": {
      "text/html": [
       "<div>\n",
       "<style scoped>\n",
       "    .dataframe tbody tr th:only-of-type {\n",
       "        vertical-align: middle;\n",
       "    }\n",
       "\n",
       "    .dataframe tbody tr th {\n",
       "        vertical-align: top;\n",
       "    }\n",
       "\n",
       "    .dataframe thead th {\n",
       "        text-align: right;\n",
       "    }\n",
       "</style>\n",
       "<table border=\"1\" class=\"dataframe\">\n",
       "  <thead>\n",
       "    <tr style=\"text-align: right;\">\n",
       "      <th></th>\n",
       "      <th>ID_Order</th>\n",
       "      <th>ID_Customer</th>\n",
       "      <th>ID_Item</th>\n",
       "      <th>DateTime_CartFinalize</th>\n",
       "      <th>Amount_Gross_Order</th>\n",
       "      <th>city_name_fa</th>\n",
       "      <th>Quantity_item</th>\n",
       "    </tr>\n",
       "  </thead>\n",
       "  <tbody>\n",
       "    <tr>\n",
       "      <th>0</th>\n",
       "      <td>2714054</td>\n",
       "      <td>469662</td>\n",
       "      <td>21386</td>\n",
       "      <td>2015-10-15 08:50:56.000</td>\n",
       "      <td>597982.0</td>\n",
       "      <td>محمود آباد</td>\n",
       "      <td>1.0</td>\n",
       "    </tr>\n",
       "    <tr>\n",
       "      <th>1</th>\n",
       "      <td>11104039</td>\n",
       "      <td>3063877</td>\n",
       "      <td>248497</td>\n",
       "      <td>2018-02-11 00:29:26.000</td>\n",
       "      <td>980000.0</td>\n",
       "      <td>خرمدره</td>\n",
       "      <td>1.0</td>\n",
       "    </tr>\n",
       "    <tr>\n",
       "      <th>2</th>\n",
       "      <td>4228130</td>\n",
       "      <td>3184893</td>\n",
       "      <td>50144</td>\n",
       "      <td>2016-06-14 00:30:08.000</td>\n",
       "      <td>229358.0</td>\n",
       "      <td>قرچک</td>\n",
       "      <td>1.0</td>\n",
       "    </tr>\n",
       "    <tr>\n",
       "      <th>3</th>\n",
       "      <td>22225624</td>\n",
       "      <td>6888562</td>\n",
       "      <td>70208</td>\n",
       "      <td>2018-09-03 14:37:19.000</td>\n",
       "      <td>16514.0</td>\n",
       "      <td>قم</td>\n",
       "      <td>1.0</td>\n",
       "    </tr>\n",
       "    <tr>\n",
       "      <th>4</th>\n",
       "      <td>4068771</td>\n",
       "      <td>2533490</td>\n",
       "      <td>67627</td>\n",
       "      <td>2016-05-21 11:51:02.000</td>\n",
       "      <td>133028.0</td>\n",
       "      <td>تهران</td>\n",
       "      <td>1.0</td>\n",
       "    </tr>\n",
       "  </tbody>\n",
       "</table>\n",
       "</div>"
      ],
      "text/plain": [
       "   ID_Order  ID_Customer  ID_Item    DateTime_CartFinalize  \\\n",
       "0   2714054       469662    21386  2015-10-15 08:50:56.000   \n",
       "1  11104039      3063877   248497  2018-02-11 00:29:26.000   \n",
       "2   4228130      3184893    50144  2016-06-14 00:30:08.000   \n",
       "3  22225624      6888562    70208  2018-09-03 14:37:19.000   \n",
       "4   4068771      2533490    67627  2016-05-21 11:51:02.000   \n",
       "\n",
       "   Amount_Gross_Order city_name_fa  Quantity_item  \n",
       "0            597982.0   محمود آباد            1.0  \n",
       "1            980000.0       خرمدره            1.0  \n",
       "2            229358.0         قرچک            1.0  \n",
       "3             16514.0           قم            1.0  \n",
       "4            133028.0        تهران            1.0  "
      ]
     },
     "execution_count": 13,
     "metadata": {},
     "output_type": "execute_result"
    }
   ],
   "source": [
    "data.head()"
   ]
  },
  {
   "cell_type": "code",
   "execution_count": 14,
   "metadata": {},
   "outputs": [],
   "source": [
    "a= sum(data[data.ID_Customer.isin(two_buy)].Amount_Gross_Order)\n",
    "b= sum(data[data.ID_Customer.isin(one_buy)].Amount_Gross_Order)"
   ]
  },
  {
   "cell_type": "code",
   "execution_count": 15,
   "metadata": {},
   "outputs": [],
   "source": [
    "twoBuy_df = data[data.ID_Customer.isin(two_buy)]\n",
    "oneBuy_df = data[data.ID_Customer.isin(one_buy)]"
   ]
  },
  {
   "cell_type": "code",
   "execution_count": 16,
   "metadata": {},
   "outputs": [
    {
     "data": {
      "text/plain": [
       "2.310408978370875"
      ]
     },
     "execution_count": 16,
     "metadata": {},
     "output_type": "execute_result"
    }
   ],
   "source": [
    "b/a"
   ]
  },
  {
   "cell_type": "code",
   "execution_count": 17,
   "metadata": {},
   "outputs": [
    {
     "data": {
      "text/plain": [
       "([<matplotlib.patches.Wedge at 0x1ecef843828>,\n",
       "  <matplotlib.patches.Wedge at 0x1ecef84f2e8>],\n",
       " [Text(-0.8941195550531712, 0.6407419303210298, 'two buy'),\n",
       "  Text(0.8941195550531711, -0.6407419303210299, 'one_buy')],\n",
       " [Text(-0.48770157548354787, 0.3494955983569253, '30.21%'),\n",
       "  Text(0.48770157548354776, -0.3494955983569254, '69.79%')])"
      ]
     },
     "execution_count": 17,
     "metadata": {},
     "output_type": "execute_result"
    },
    {
     "data": {
      "image/png": "[encoded data removed]",
      "text/plain": [
       "<Figure size 432x288 with 1 Axes>"
      ]
     },
     "metadata": {},
     "output_type": "display_data"
    }
   ],
   "source": [
    "fig1,ax1= plt.subplots()\n",
    "ax1.pie([a,b],labels=['two buy', 'one_buy'], autopct='%1.2f%%',\n",
    "        shadow=True, startangle=90)"
   ]
  },
  {
   "cell_type": "code",
   "execution_count": 18,
   "metadata": {},
   "outputs": [],
   "source": [
    "date = data.loc[1]['DateTime_CartFinalize']"
   ]
  },
  {
   "cell_type": "code",
   "execution_count": 19,
   "metadata": {},
   "outputs": [
    {
     "data": {
      "text/plain": [
       "'2018-02-11 00:29:26.000'"
      ]
     },
     "execution_count": 19,
     "metadata": {},
     "output_type": "execute_result"
    }
   ],
   "source": [
    "date"
   ]
  },
  {
   "cell_type": "code",
   "execution_count": 20,
   "metadata": {},
   "outputs": [
    {
     "name": "stdout",
     "output_type": "stream",
     "text": [
      "2018 2 11\n"
     ]
    }
   ],
   "source": [
    "y = int(date[:4])\n",
    "m = int(date[5:7])\n",
    "d = int(date[8:10])\n",
    "print(y,m,d)"
   ]
  },
  {
   "cell_type": "code",
   "execution_count": 21,
   "metadata": {},
   "outputs": [],
   "source": [
    "twoBuy_df= twoBuy_df.sort_values(by=['ID_Customer'])\n",
    "oneBuy_df= oneBuy_df.sort_values(by=['ID_Customer'])"
   ]
  },
  {
   "cell_type": "code",
   "execution_count": 22,
   "metadata": {},
   "outputs": [
    {
     "data": {
      "image/png": "[encoded data removed]",
      "text/plain": [
       "<Figure size 432x288 with 2 Axes>"
      ]
     },
     "metadata": {
      "needs_background": "light"
     },
     "output_type": "display_data"
    }
   ],
   "source": [
    "x = twoBuy_df.Quantity_item.value_counts().sort_index()\n",
    "fig3,(ax1, ax2) = plt.subplots(1,2)\n",
    "#fig3,ax1= plt.subplots(121)\n",
    "ax1.bar(x.keys()[:10], x.values[:10])\n",
    "ax1.set_title('Quantity_item : more than two order')\n",
    "#fig3,ax2= plt.subplots()\n",
    "ax2.bar(x.keys()[1:10], x.values[1:10])\n",
    "ax2.set_title('Quantity_item : more than two order')\n",
    "fig3.tight_layout()"
   ]
  },
  {
   "cell_type": "code",
   "execution_count": 23,
   "metadata": {},
   "outputs": [
    {
     "data": {
      "text/plain": [
       "Text(0.5, 1.0, 'Quantity_item : just one order')"
      ]
     },
     "execution_count": 23,
     "metadata": {},
     "output_type": "execute_result"
    },
    {
     "data": {
      "image/png": "[encoded data removed]",
      "text/plain": [
       "<Figure size 432x288 with 2 Axes>"
      ]
     },
     "metadata": {
      "needs_background": "light"
     },
     "output_type": "display_data"
    }
   ],
   "source": [
    "x = oneBuy_df.Quantity_item.value_counts().sort_index()\n",
    "fig3,(ax1, ax2) = plt.subplots(1,2)\n",
    "#fig3,ax1= plt.subplots(121)\n",
    "ax1.bar(x.keys()[:10], x.values[:10])\n",
    "ax1.set_title('Quantity_item : just one order')\n",
    "#fig3,ax2= plt.subplots()\n",
    "ax2.bar(x.keys()[1:10], x.values[1:10])\n",
    "ax2.set_title('Quantity_item : just one order')"
   ]
  },
  {
   "cell_type": "code",
   "execution_count": 24,
   "metadata": {},
   "outputs": [
    {
     "data": {
      "text/plain": [
       "840449       1\n",
       "1018003      1\n",
       "747663       1\n",
       "1794190      1\n",
       "598206       1\n",
       "1237182      1\n",
       "340164       1\n",
       "351377       1\n",
       "119000       1\n",
       "1804563      1\n",
       "753938       1\n",
       "467206       1\n",
       "723203       1\n",
       "362552       1\n",
       "585980       1\n",
       "1360122      1\n",
       "1216944      1\n",
       "841977       1\n",
       "557298       1\n",
       "37104        1\n",
       "1292437      1\n",
       "18667        1\n",
       "1294490      1\n",
       "518303       1\n",
       "203137       1\n",
       "53624        1\n",
       "305527       1\n",
       "297331       1\n",
       "33138        1\n",
       "825713       1\n",
       "          ... \n",
       "479349     102\n",
       "43106      102\n",
       "137583     106\n",
       "44653      107\n",
       "54850      108\n",
       "295740     108\n",
       "128133     111\n",
       "163090     114\n",
       "82966      115\n",
       "143130     119\n",
       "94233      119\n",
       "20215      122\n",
       "245223     124\n",
       "77707      127\n",
       "12532      128\n",
       "129574     129\n",
       "118375     131\n",
       "294923     131\n",
       "42124      141\n",
       "7225       146\n",
       "153067     149\n",
       "294943     155\n",
       "22839      160\n",
       "19890      168\n",
       "416448     175\n",
       "8289       233\n",
       "45121      259\n",
       "51778      288\n",
       "36871      367\n",
       "294942     481\n",
       "Name: ID_Item, Length: 95232, dtype: int64"
      ]
     },
     "execution_count": 24,
     "metadata": {},
     "output_type": "execute_result"
    }
   ],
   "source": [
    "data.ID_Item.value_counts().sort_values()"
   ]
  },
  {
   "cell_type": "code",
   "execution_count": 25,
   "metadata": {},
   "outputs": [],
   "source": [
    "dates_df = data.DateTime_CartFinalize"
   ]
  },
  {
   "cell_type": "code",
   "execution_count": 26,
   "metadata": {},
   "outputs": [
    {
     "data": {
      "text/plain": [
       "0    2015-10-15 08:50:56.000\n",
       "1    2018-02-11 00:29:26.000\n",
       "2    2016-06-14 00:30:08.000\n",
       "3    2018-09-03 14:37:19.000\n",
       "4    2016-05-21 11:51:02.000\n",
       "Name: DateTime_CartFinalize, dtype: object"
      ]
     },
     "execution_count": 26,
     "metadata": {},
     "output_type": "execute_result"
    }
   ],
   "source": [
    "dates_df.head()"
   ]
  },
  {
   "cell_type": "code",
   "execution_count": 27,
   "metadata": {},
   "outputs": [],
   "source": [
    "import re"
   ]
  },
  {
   "cell_type": "code",
   "execution_count": 28,
   "metadata": {},
   "outputs": [],
   "source": [
    "d1 = dates_df.loc[1]"
   ]
  },
  {
   "cell_type": "code",
   "execution_count": 29,
   "metadata": {},
   "outputs": [
    {
     "data": {
      "text/plain": [
       "str"
      ]
     },
     "execution_count": 29,
     "metadata": {},
     "output_type": "execute_result"
    }
   ],
   "source": [
    "type(d1)"
   ]
  },
  {
   "cell_type": "code",
   "execution_count": 30,
   "metadata": {},
   "outputs": [
    {
     "data": {
      "text/plain": [
       "['2018-02-11', '00:29:26.000']"
      ]
     },
     "execution_count": 30,
     "metadata": {},
     "output_type": "execute_result"
    }
   ],
   "source": [
    "re.split('\\s',d1)"
   ]
  },
  {
   "cell_type": "code",
   "execution_count": 31,
   "metadata": {},
   "outputs": [],
   "source": [
    "from datetime import datetime"
   ]
  },
  {
   "cell_type": "code",
   "execution_count": 32,
   "metadata": {},
   "outputs": [
    {
     "data": {
      "text/plain": [
       "'2018-02-11 00:29:26.000'"
      ]
     },
     "execution_count": 32,
     "metadata": {},
     "output_type": "execute_result"
    }
   ],
   "source": [
    "d1"
   ]
  },
  {
   "cell_type": "code",
   "execution_count": 33,
   "metadata": {},
   "outputs": [],
   "source": [
    "a1= datetime.strptime('2018-02-11 00:20:26.000', '%Y-%m-%d %H:%M:%S.%f')\n",
    "a2= datetime.strptime('2018-03-11 00:29:26.000', '%Y-%m-%d %H:%M:%S.%f')"
   ]
  },
  {
   "cell_type": "code",
   "execution_count": 34,
   "metadata": {},
   "outputs": [],
   "source": [
    "c= a2-a1"
   ]
  },
  {
   "cell_type": "code",
   "execution_count": 35,
   "metadata": {},
   "outputs": [
    {
     "data": {
      "text/plain": [
       "2419740.0"
      ]
     },
     "execution_count": 35,
     "metadata": {},
     "output_type": "execute_result"
    }
   ],
   "source": [
    "c.total_seconds()"
   ]
  },
  {
   "cell_type": "code",
   "execution_count": 36,
   "metadata": {},
   "outputs": [
    {
     "data": {
      "text/plain": [
       "datetime.timedelta(days=28, seconds=540)"
      ]
     },
     "execution_count": 36,
     "metadata": {},
     "output_type": "execute_result"
    }
   ],
   "source": [
    "c"
   ]
  },
  {
   "cell_type": "code",
   "execution_count": 37,
   "metadata": {},
   "outputs": [
    {
     "data": {
      "text/plain": [
       "2419740"
      ]
     },
     "execution_count": 37,
     "metadata": {},
     "output_type": "execute_result"
    }
   ],
   "source": [
    "28*3600*24 + 540"
   ]
  },
  {
   "cell_type": "code",
   "execution_count": 38,
   "metadata": {},
   "outputs": [],
   "source": [
    "d2= dates_df.apply(lambda x: datetime.strptime(x, '%Y-%m-%d %H:%M:%S.%f'))"
   ]
  },
  {
   "cell_type": "code",
   "execution_count": 39,
   "metadata": {},
   "outputs": [
    {
     "data": {
      "text/plain": [
       "0   2015-10-15 08:50:56\n",
       "1   2018-02-11 00:29:26\n",
       "2   2016-06-14 00:30:08\n",
       "3   2018-09-03 14:37:19\n",
       "4   2016-05-21 11:51:02\n",
       "Name: DateTime_CartFinalize, dtype: datetime64[ns]"
      ]
     },
     "execution_count": 39,
     "metadata": {},
     "output_type": "execute_result"
    }
   ],
   "source": [
    "d2.head()"
   ]
  },
  {
   "cell_type": "code",
   "execution_count": 40,
   "metadata": {},
   "outputs": [
    {
     "data": {
      "text/plain": [
       "Timedelta('-812 days +09:52:49')"
      ]
     },
     "execution_count": 40,
     "metadata": {},
     "output_type": "execute_result"
    }
   ],
   "source": [
    "d2.loc[2] - d2.loc[3]"
   ]
  },
  {
   "cell_type": "code",
   "execution_count": 41,
   "metadata": {},
   "outputs": [
    {
     "data": {
      "text/plain": [
       "0    2015-10-15 08:50:56.000\n",
       "1    2018-02-11 00:29:26.000\n",
       "2    2016-06-14 00:30:08.000\n",
       "3    2018-09-03 14:37:19.000\n",
       "4    2016-05-21 11:51:02.000\n",
       "Name: DateTime_CartFinalize, dtype: object"
      ]
     },
     "execution_count": 41,
     "metadata": {},
     "output_type": "execute_result"
    }
   ],
   "source": [
    "dates_df.head()"
   ]
  },
  {
   "cell_type": "code",
   "execution_count": 42,
   "metadata": {},
   "outputs": [],
   "source": [
    "vv = data.head()"
   ]
  },
  {
   "cell_type": "code",
   "execution_count": 43,
   "metadata": {},
   "outputs": [
    {
     "data": {
      "text/html": [
       "<div>\n",
       "<style scoped>\n",
       "    .dataframe tbody tr th:only-of-type {\n",
       "        vertical-align: middle;\n",
       "    }\n",
       "\n",
       "    .dataframe tbody tr th {\n",
       "        vertical-align: top;\n",
       "    }\n",
       "\n",
       "    .dataframe thead th {\n",
       "        text-align: right;\n",
       "    }\n",
       "</style>\n",
       "<table border=\"1\" class=\"dataframe\">\n",
       "  <thead>\n",
       "    <tr style=\"text-align: right;\">\n",
       "      <th></th>\n",
       "      <th>ID_Order</th>\n",
       "      <th>ID_Customer</th>\n",
       "      <th>ID_Item</th>\n",
       "      <th>DateTime_CartFinalize</th>\n",
       "      <th>Amount_Gross_Order</th>\n",
       "      <th>city_name_fa</th>\n",
       "      <th>Quantity_item</th>\n",
       "    </tr>\n",
       "  </thead>\n",
       "  <tbody>\n",
       "    <tr>\n",
       "      <th>0</th>\n",
       "      <td>2714054</td>\n",
       "      <td>469662</td>\n",
       "      <td>21386</td>\n",
       "      <td>2015-10-15 08:50:56.000</td>\n",
       "      <td>597982.0</td>\n",
       "      <td>محمود آباد</td>\n",
       "      <td>1.0</td>\n",
       "    </tr>\n",
       "    <tr>\n",
       "      <th>1</th>\n",
       "      <td>11104039</td>\n",
       "      <td>3063877</td>\n",
       "      <td>248497</td>\n",
       "      <td>2018-02-11 00:29:26.000</td>\n",
       "      <td>980000.0</td>\n",
       "      <td>خرمدره</td>\n",
       "      <td>1.0</td>\n",
       "    </tr>\n",
       "    <tr>\n",
       "      <th>2</th>\n",
       "      <td>4228130</td>\n",
       "      <td>3184893</td>\n",
       "      <td>50144</td>\n",
       "      <td>2016-06-14 00:30:08.000</td>\n",
       "      <td>229358.0</td>\n",
       "      <td>قرچک</td>\n",
       "      <td>1.0</td>\n",
       "    </tr>\n",
       "    <tr>\n",
       "      <th>3</th>\n",
       "      <td>22225624</td>\n",
       "      <td>6888562</td>\n",
       "      <td>70208</td>\n",
       "      <td>2018-09-03 14:37:19.000</td>\n",
       "      <td>16514.0</td>\n",
       "      <td>قم</td>\n",
       "      <td>1.0</td>\n",
       "    </tr>\n",
       "    <tr>\n",
       "      <th>4</th>\n",
       "      <td>4068771</td>\n",
       "      <td>2533490</td>\n",
       "      <td>67627</td>\n",
       "      <td>2016-05-21 11:51:02.000</td>\n",
       "      <td>133028.0</td>\n",
       "      <td>تهران</td>\n",
       "      <td>1.0</td>\n",
       "    </tr>\n",
       "  </tbody>\n",
       "</table>\n",
       "</div>"
      ],
      "text/plain": [
       "   ID_Order  ID_Customer  ID_Item    DateTime_CartFinalize  \\\n",
       "0   2714054       469662    21386  2015-10-15 08:50:56.000   \n",
       "1  11104039      3063877   248497  2018-02-11 00:29:26.000   \n",
       "2   4228130      3184893    50144  2016-06-14 00:30:08.000   \n",
       "3  22225624      6888562    70208  2018-09-03 14:37:19.000   \n",
       "4   4068771      2533490    67627  2016-05-21 11:51:02.000   \n",
       "\n",
       "   Amount_Gross_Order city_name_fa  Quantity_item  \n",
       "0            597982.0   محمود آباد            1.0  \n",
       "1            980000.0       خرمدره            1.0  \n",
       "2            229358.0         قرچک            1.0  \n",
       "3             16514.0           قم            1.0  \n",
       "4            133028.0        تهران            1.0  "
      ]
     },
     "execution_count": 43,
     "metadata": {},
     "output_type": "execute_result"
    }
   ],
   "source": [
    "vv"
   ]
  },
  {
   "cell_type": "code",
   "execution_count": 44,
   "metadata": {},
   "outputs": [
    {
     "name": "stderr",
     "output_type": "stream",
     "text": [
      "E:\\anaconda3\\lib\\site-packages\\ipykernel_launcher.py:1: SettingWithCopyWarning: \n",
      "A value is trying to be set on a copy of a slice from a DataFrame.\n",
      "Try using .loc[row_indexer,col_indexer] = value instead\n",
      "\n",
      "See the caveats in the documentation: http://pandas.pydata.org/pandas-docs/stable/indexing.html#indexing-view-versus-copy\n",
      "  \"\"\"Entry point for launching an IPython kernel.\n"
     ]
    }
   ],
   "source": [
    "vv['newdat'] = vv.DateTime_CartFinalize.apply(lambda x: datetime.strptime(x, '%Y-%m-%d %H:%M:%S.%f') )"
   ]
  },
  {
   "cell_type": "code",
   "execution_count": 45,
   "metadata": {},
   "outputs": [
    {
     "data": {
      "text/plain": [
       "'2015-10-15 08:50:56.000'"
      ]
     },
     "execution_count": 45,
     "metadata": {},
     "output_type": "execute_result"
    }
   ],
   "source": [
    "vv.loc[0].DateTime_CartFinalize"
   ]
  },
  {
   "cell_type": "code",
   "execution_count": 46,
   "metadata": {},
   "outputs": [
    {
     "data": {
      "text/html": [
       "<div>\n",
       "<style scoped>\n",
       "    .dataframe tbody tr th:only-of-type {\n",
       "        vertical-align: middle;\n",
       "    }\n",
       "\n",
       "    .dataframe tbody tr th {\n",
       "        vertical-align: top;\n",
       "    }\n",
       "\n",
       "    .dataframe thead th {\n",
       "        text-align: right;\n",
       "    }\n",
       "</style>\n",
       "<table border=\"1\" class=\"dataframe\">\n",
       "  <thead>\n",
       "    <tr style=\"text-align: right;\">\n",
       "      <th></th>\n",
       "      <th>ID_Order</th>\n",
       "      <th>ID_Customer</th>\n",
       "      <th>ID_Item</th>\n",
       "      <th>DateTime_CartFinalize</th>\n",
       "      <th>Amount_Gross_Order</th>\n",
       "      <th>city_name_fa</th>\n",
       "      <th>Quantity_item</th>\n",
       "      <th>newdat</th>\n",
       "    </tr>\n",
       "  </thead>\n",
       "  <tbody>\n",
       "    <tr>\n",
       "      <th>0</th>\n",
       "      <td>2714054</td>\n",
       "      <td>469662</td>\n",
       "      <td>21386</td>\n",
       "      <td>2015-10-15 08:50:56.000</td>\n",
       "      <td>597982.0</td>\n",
       "      <td>محمود آباد</td>\n",
       "      <td>1.0</td>\n",
       "      <td>2015-10-15 08:50:56</td>\n",
       "    </tr>\n",
       "    <tr>\n",
       "      <th>4</th>\n",
       "      <td>4068771</td>\n",
       "      <td>2533490</td>\n",
       "      <td>67627</td>\n",
       "      <td>2016-05-21 11:51:02.000</td>\n",
       "      <td>133028.0</td>\n",
       "      <td>تهران</td>\n",
       "      <td>1.0</td>\n",
       "      <td>2016-05-21 11:51:02</td>\n",
       "    </tr>\n",
       "    <tr>\n",
       "      <th>2</th>\n",
       "      <td>4228130</td>\n",
       "      <td>3184893</td>\n",
       "      <td>50144</td>\n",
       "      <td>2016-06-14 00:30:08.000</td>\n",
       "      <td>229358.0</td>\n",
       "      <td>قرچک</td>\n",
       "      <td>1.0</td>\n",
       "      <td>2016-06-14 00:30:08</td>\n",
       "    </tr>\n",
       "    <tr>\n",
       "      <th>1</th>\n",
       "      <td>11104039</td>\n",
       "      <td>3063877</td>\n",
       "      <td>248497</td>\n",
       "      <td>2018-02-11 00:29:26.000</td>\n",
       "      <td>980000.0</td>\n",
       "      <td>خرمدره</td>\n",
       "      <td>1.0</td>\n",
       "      <td>2018-02-11 00:29:26</td>\n",
       "    </tr>\n",
       "    <tr>\n",
       "      <th>3</th>\n",
       "      <td>22225624</td>\n",
       "      <td>6888562</td>\n",
       "      <td>70208</td>\n",
       "      <td>2018-09-03 14:37:19.000</td>\n",
       "      <td>16514.0</td>\n",
       "      <td>قم</td>\n",
       "      <td>1.0</td>\n",
       "      <td>2018-09-03 14:37:19</td>\n",
       "    </tr>\n",
       "  </tbody>\n",
       "</table>\n",
       "</div>"
      ],
      "text/plain": [
       "   ID_Order  ID_Customer  ID_Item    DateTime_CartFinalize  \\\n",
       "0   2714054       469662    21386  2015-10-15 08:50:56.000   \n",
       "4   4068771      2533490    67627  2016-05-21 11:51:02.000   \n",
       "2   4228130      3184893    50144  2016-06-14 00:30:08.000   \n",
       "1  11104039      3063877   248497  2018-02-11 00:29:26.000   \n",
       "3  22225624      6888562    70208  2018-09-03 14:37:19.000   \n",
       "\n",
       "   Amount_Gross_Order city_name_fa  Quantity_item              newdat  \n",
       "0            597982.0   محمود آباد            1.0 2015-10-15 08:50:56  \n",
       "4            133028.0        تهران            1.0 2016-05-21 11:51:02  \n",
       "2            229358.0         قرچک            1.0 2016-06-14 00:30:08  \n",
       "1            980000.0       خرمدره            1.0 2018-02-11 00:29:26  \n",
       "3             16514.0           قم            1.0 2018-09-03 14:37:19  "
      ]
     },
     "execution_count": 46,
     "metadata": {},
     "output_type": "execute_result"
    }
   ],
   "source": [
    "vv.sort_values(by = ['newdat'])"
   ]
  },
  {
   "cell_type": "code",
   "execution_count": 47,
   "metadata": {},
   "outputs": [
    {
     "data": {
      "text/html": [
       "<div>\n",
       "<style scoped>\n",
       "    .dataframe tbody tr th:only-of-type {\n",
       "        vertical-align: middle;\n",
       "    }\n",
       "\n",
       "    .dataframe tbody tr th {\n",
       "        vertical-align: top;\n",
       "    }\n",
       "\n",
       "    .dataframe thead th {\n",
       "        text-align: right;\n",
       "    }\n",
       "</style>\n",
       "<table border=\"1\" class=\"dataframe\">\n",
       "  <thead>\n",
       "    <tr style=\"text-align: right;\">\n",
       "      <th></th>\n",
       "      <th>ID_Order</th>\n",
       "      <th>ID_Customer</th>\n",
       "      <th>ID_Item</th>\n",
       "      <th>DateTime_CartFinalize</th>\n",
       "      <th>Amount_Gross_Order</th>\n",
       "      <th>city_name_fa</th>\n",
       "      <th>Quantity_item</th>\n",
       "      <th>newdat</th>\n",
       "    </tr>\n",
       "  </thead>\n",
       "  <tbody>\n",
       "    <tr>\n",
       "      <th>0</th>\n",
       "      <td>2714054</td>\n",
       "      <td>469662</td>\n",
       "      <td>21386</td>\n",
       "      <td>2015-10-15 08:50:56.000</td>\n",
       "      <td>597982.0</td>\n",
       "      <td>محمود آباد</td>\n",
       "      <td>1.0</td>\n",
       "      <td>2015-10-15 08:50:56</td>\n",
       "    </tr>\n",
       "    <tr>\n",
       "      <th>1</th>\n",
       "      <td>11104039</td>\n",
       "      <td>3063877</td>\n",
       "      <td>248497</td>\n",
       "      <td>2018-02-11 00:29:26.000</td>\n",
       "      <td>980000.0</td>\n",
       "      <td>خرمدره</td>\n",
       "      <td>1.0</td>\n",
       "      <td>2018-02-11 00:29:26</td>\n",
       "    </tr>\n",
       "    <tr>\n",
       "      <th>2</th>\n",
       "      <td>4228130</td>\n",
       "      <td>3184893</td>\n",
       "      <td>50144</td>\n",
       "      <td>2016-06-14 00:30:08.000</td>\n",
       "      <td>229358.0</td>\n",
       "      <td>قرچک</td>\n",
       "      <td>1.0</td>\n",
       "      <td>2016-06-14 00:30:08</td>\n",
       "    </tr>\n",
       "    <tr>\n",
       "      <th>3</th>\n",
       "      <td>22225624</td>\n",
       "      <td>6888562</td>\n",
       "      <td>70208</td>\n",
       "      <td>2018-09-03 14:37:19.000</td>\n",
       "      <td>16514.0</td>\n",
       "      <td>قم</td>\n",
       "      <td>1.0</td>\n",
       "      <td>2018-09-03 14:37:19</td>\n",
       "    </tr>\n",
       "    <tr>\n",
       "      <th>4</th>\n",
       "      <td>4068771</td>\n",
       "      <td>2533490</td>\n",
       "      <td>67627</td>\n",
       "      <td>2016-05-21 11:51:02.000</td>\n",
       "      <td>133028.0</td>\n",
       "      <td>تهران</td>\n",
       "      <td>1.0</td>\n",
       "      <td>2016-05-21 11:51:02</td>\n",
       "    </tr>\n",
       "  </tbody>\n",
       "</table>\n",
       "</div>"
      ],
      "text/plain": [
       "   ID_Order  ID_Customer  ID_Item    DateTime_CartFinalize  \\\n",
       "0   2714054       469662    21386  2015-10-15 08:50:56.000   \n",
       "1  11104039      3063877   248497  2018-02-11 00:29:26.000   \n",
       "2   4228130      3184893    50144  2016-06-14 00:30:08.000   \n",
       "3  22225624      6888562    70208  2018-09-03 14:37:19.000   \n",
       "4   4068771      2533490    67627  2016-05-21 11:51:02.000   \n",
       "\n",
       "   Amount_Gross_Order city_name_fa  Quantity_item              newdat  \n",
       "0            597982.0   محمود آباد            1.0 2015-10-15 08:50:56  \n",
       "1            980000.0       خرمدره            1.0 2018-02-11 00:29:26  \n",
       "2            229358.0         قرچک            1.0 2016-06-14 00:30:08  \n",
       "3             16514.0           قم            1.0 2018-09-03 14:37:19  \n",
       "4            133028.0        تهران            1.0 2016-05-21 11:51:02  "
      ]
     },
     "execution_count": 47,
     "metadata": {},
     "output_type": "execute_result"
    }
   ],
   "source": [
    "vv"
   ]
  },
  {
   "cell_type": "code",
   "execution_count": 48,
   "metadata": {},
   "outputs": [
    {
     "data": {
      "text/plain": [
       "Timestamp('2015-10-15 08:50:56')"
      ]
     },
     "execution_count": 48,
     "metadata": {},
     "output_type": "execute_result"
    }
   ],
   "source": [
    "vv.newdat.min()"
   ]
  },
  {
   "cell_type": "code",
   "execution_count": 49,
   "metadata": {},
   "outputs": [],
   "source": [
    "data['newdate'] = data.DateTime_CartFinalize.apply(lambda x: datetime.strptime(x, '%Y-%m-%d %H:%M:%S.%f') )"
   ]
  },
  {
   "cell_type": "code",
   "execution_count": 50,
   "metadata": {},
   "outputs": [
    {
     "data": {
      "text/html": [
       "<div>\n",
       "<style scoped>\n",
       "    .dataframe tbody tr th:only-of-type {\n",
       "        vertical-align: middle;\n",
       "    }\n",
       "\n",
       "    .dataframe tbody tr th {\n",
       "        vertical-align: top;\n",
       "    }\n",
       "\n",
       "    .dataframe thead th {\n",
       "        text-align: right;\n",
       "    }\n",
       "</style>\n",
       "<table border=\"1\" class=\"dataframe\">\n",
       "  <thead>\n",
       "    <tr style=\"text-align: right;\">\n",
       "      <th></th>\n",
       "      <th>ID_Order</th>\n",
       "      <th>ID_Customer</th>\n",
       "      <th>ID_Item</th>\n",
       "      <th>DateTime_CartFinalize</th>\n",
       "      <th>Amount_Gross_Order</th>\n",
       "      <th>city_name_fa</th>\n",
       "      <th>Quantity_item</th>\n",
       "      <th>newdate</th>\n",
       "    </tr>\n",
       "  </thead>\n",
       "  <tbody>\n",
       "    <tr>\n",
       "      <th>0</th>\n",
       "      <td>2714054</td>\n",
       "      <td>469662</td>\n",
       "      <td>21386</td>\n",
       "      <td>2015-10-15 08:50:56.000</td>\n",
       "      <td>597982.0</td>\n",
       "      <td>محمود آباد</td>\n",
       "      <td>1.0</td>\n",
       "      <td>2015-10-15 08:50:56</td>\n",
       "    </tr>\n",
       "    <tr>\n",
       "      <th>1</th>\n",
       "      <td>11104039</td>\n",
       "      <td>3063877</td>\n",
       "      <td>248497</td>\n",
       "      <td>2018-02-11 00:29:26.000</td>\n",
       "      <td>980000.0</td>\n",
       "      <td>خرمدره</td>\n",
       "      <td>1.0</td>\n",
       "      <td>2018-02-11 00:29:26</td>\n",
       "    </tr>\n",
       "    <tr>\n",
       "      <th>2</th>\n",
       "      <td>4228130</td>\n",
       "      <td>3184893</td>\n",
       "      <td>50144</td>\n",
       "      <td>2016-06-14 00:30:08.000</td>\n",
       "      <td>229358.0</td>\n",
       "      <td>قرچک</td>\n",
       "      <td>1.0</td>\n",
       "      <td>2016-06-14 00:30:08</td>\n",
       "    </tr>\n",
       "    <tr>\n",
       "      <th>3</th>\n",
       "      <td>22225624</td>\n",
       "      <td>6888562</td>\n",
       "      <td>70208</td>\n",
       "      <td>2018-09-03 14:37:19.000</td>\n",
       "      <td>16514.0</td>\n",
       "      <td>قم</td>\n",
       "      <td>1.0</td>\n",
       "      <td>2018-09-03 14:37:19</td>\n",
       "    </tr>\n",
       "    <tr>\n",
       "      <th>4</th>\n",
       "      <td>4068771</td>\n",
       "      <td>2533490</td>\n",
       "      <td>67627</td>\n",
       "      <td>2016-05-21 11:51:02.000</td>\n",
       "      <td>133028.0</td>\n",
       "      <td>تهران</td>\n",
       "      <td>1.0</td>\n",
       "      <td>2016-05-21 11:51:02</td>\n",
       "    </tr>\n",
       "  </tbody>\n",
       "</table>\n",
       "</div>"
      ],
      "text/plain": [
       "   ID_Order  ID_Customer  ID_Item    DateTime_CartFinalize  \\\n",
       "0   2714054       469662    21386  2015-10-15 08:50:56.000   \n",
       "1  11104039      3063877   248497  2018-02-11 00:29:26.000   \n",
       "2   4228130      3184893    50144  2016-06-14 00:30:08.000   \n",
       "3  22225624      6888562    70208  2018-09-03 14:37:19.000   \n",
       "4   4068771      2533490    67627  2016-05-21 11:51:02.000   \n",
       "\n",
       "   Amount_Gross_Order city_name_fa  Quantity_item             newdate  \n",
       "0            597982.0   محمود آباد            1.0 2015-10-15 08:50:56  \n",
       "1            980000.0       خرمدره            1.0 2018-02-11 00:29:26  \n",
       "2            229358.0         قرچک            1.0 2016-06-14 00:30:08  \n",
       "3             16514.0           قم            1.0 2018-09-03 14:37:19  \n",
       "4            133028.0        تهران            1.0 2016-05-21 11:51:02  "
      ]
     },
     "execution_count": 50,
     "metadata": {},
     "output_type": "execute_result"
    }
   ],
   "source": [
    "data.head()"
   ]
  },
  {
   "cell_type": "code",
   "execution_count": 51,
   "metadata": {},
   "outputs": [],
   "source": [
    "mask = data.newdate<datetime(2016,1,1,0,0,0,0)"
   ]
  },
  {
   "cell_type": "code",
   "execution_count": 52,
   "metadata": {},
   "outputs": [],
   "source": [
    "data_sorted = data.sort_values(by = ['newdate'])"
   ]
  },
  {
   "cell_type": "code",
   "execution_count": 53,
   "metadata": {},
   "outputs": [
    {
     "data": {
      "text/plain": [
       "datetime.datetime(2016, 1, 1, 0, 0)"
      ]
     },
     "execution_count": 53,
     "metadata": {},
     "output_type": "execute_result"
    }
   ],
   "source": [
    "datetime(2016,1,1,0,0,0,0)"
   ]
  },
  {
   "cell_type": "code",
   "execution_count": 54,
   "metadata": {},
   "outputs": [
    {
     "data": {
      "text/html": [
       "<div>\n",
       "<style scoped>\n",
       "    .dataframe tbody tr th:only-of-type {\n",
       "        vertical-align: middle;\n",
       "    }\n",
       "\n",
       "    .dataframe tbody tr th {\n",
       "        vertical-align: top;\n",
       "    }\n",
       "\n",
       "    .dataframe thead th {\n",
       "        text-align: right;\n",
       "    }\n",
       "</style>\n",
       "<table border=\"1\" class=\"dataframe\">\n",
       "  <thead>\n",
       "    <tr style=\"text-align: right;\">\n",
       "      <th></th>\n",
       "      <th>ID_Order</th>\n",
       "      <th>ID_Customer</th>\n",
       "      <th>ID_Item</th>\n",
       "      <th>DateTime_CartFinalize</th>\n",
       "      <th>Amount_Gross_Order</th>\n",
       "      <th>city_name_fa</th>\n",
       "      <th>Quantity_item</th>\n",
       "      <th>newdate</th>\n",
       "    </tr>\n",
       "  </thead>\n",
       "  <tbody>\n",
       "    <tr>\n",
       "      <th>69768</th>\n",
       "      <td>1000740</td>\n",
       "      <td>609924</td>\n",
       "      <td>6906</td>\n",
       "      <td>2013-09-27 12:03:00.000</td>\n",
       "      <td>812453.0</td>\n",
       "      <td>قم</td>\n",
       "      <td>1.0</td>\n",
       "      <td>2013-09-27 12:03:00</td>\n",
       "    </tr>\n",
       "    <tr>\n",
       "      <th>153955</th>\n",
       "      <td>1000411</td>\n",
       "      <td>720568</td>\n",
       "      <td>8777</td>\n",
       "      <td>2013-09-27 19:43:00.000</td>\n",
       "      <td>3254717.0</td>\n",
       "      <td>تهران</td>\n",
       "      <td>1.0</td>\n",
       "      <td>2013-09-27 19:43:00</td>\n",
       "    </tr>\n",
       "    <tr>\n",
       "      <th>72224</th>\n",
       "      <td>1000977</td>\n",
       "      <td>695557</td>\n",
       "      <td>3136</td>\n",
       "      <td>2013-09-27 22:26:00.000</td>\n",
       "      <td>8764151.0</td>\n",
       "      <td>شهرکرد</td>\n",
       "      <td>1.0</td>\n",
       "      <td>2013-09-27 22:26:00</td>\n",
       "    </tr>\n",
       "    <tr>\n",
       "      <th>185193</th>\n",
       "      <td>1000919</td>\n",
       "      <td>470250</td>\n",
       "      <td>1532</td>\n",
       "      <td>2013-09-28 12:04:00.000</td>\n",
       "      <td>926226.0</td>\n",
       "      <td>زنجان</td>\n",
       "      <td>2.0</td>\n",
       "      <td>2013-09-28 12:04:00</td>\n",
       "    </tr>\n",
       "    <tr>\n",
       "      <th>160662</th>\n",
       "      <td>1002123</td>\n",
       "      <td>531450</td>\n",
       "      <td>8045</td>\n",
       "      <td>2013-09-29 22:08:00.000</td>\n",
       "      <td>9433585.0</td>\n",
       "      <td>رشت</td>\n",
       "      <td>1.0</td>\n",
       "      <td>2013-09-29 22:08:00</td>\n",
       "    </tr>\n",
       "  </tbody>\n",
       "</table>\n",
       "</div>"
      ],
      "text/plain": [
       "        ID_Order  ID_Customer  ID_Item    DateTime_CartFinalize  \\\n",
       "69768    1000740       609924     6906  2013-09-27 12:03:00.000   \n",
       "153955   1000411       720568     8777  2013-09-27 19:43:00.000   \n",
       "72224    1000977       695557     3136  2013-09-27 22:26:00.000   \n",
       "185193   1000919       470250     1532  2013-09-28 12:04:00.000   \n",
       "160662   1002123       531450     8045  2013-09-29 22:08:00.000   \n",
       "\n",
       "        Amount_Gross_Order city_name_fa  Quantity_item             newdate  \n",
       "69768             812453.0           قم            1.0 2013-09-27 12:03:00  \n",
       "153955           3254717.0        تهران            1.0 2013-09-27 19:43:00  \n",
       "72224            8764151.0       شهرکرد            1.0 2013-09-27 22:26:00  \n",
       "185193            926226.0        زنجان            2.0 2013-09-28 12:04:00  \n",
       "160662           9433585.0          رشت            1.0 2013-09-29 22:08:00  "
      ]
     },
     "execution_count": 54,
     "metadata": {},
     "output_type": "execute_result"
    }
   ],
   "source": [
    "data_sorted.head()"
   ]
  },
  {
   "cell_type": "code",
   "execution_count": 55,
   "metadata": {},
   "outputs": [],
   "source": [
    "def digi_param(dt, date1,date2):\n",
    "    count = dt[(dt.newdate>=date1)&(dt.newdate<date2)].shape[0]\n",
    "    Quantity_item = dt[(dt.newdate>=date1)&(dt.newdate<date2)].Quantity_item\n",
    "    Amount_Gross_Order = dt[(dt.newdate>=date1)&(dt.newdate<date2)].Amount_Gross_Order\n",
    "    p1 = Amount_Gross_Order.sum() / Quantity_item.sum()\n",
    "    p2 = (Quantity_item.mean(), Quantity_item.std() )\n",
    "    p3 = (Amount_Gross_Order.mean(), Amount_Gross_Order.std())\n",
    "    return p1, p2, p3"
   ]
  },
  {
   "cell_type": "code",
   "execution_count": 56,
   "metadata": {},
   "outputs": [],
   "source": [
    "p1 =[]\n",
    "p2 =[]\n",
    "p3 =[]\n",
    "for i in range(2013,2019):\n",
    "    t1, t2, t3 = digi_param(data_sorted, datetime(i,1,1,0,0,0,0),datetime(i+1,1,1,0,0,0,0))\n",
    "    p1.append(t1)\n",
    "    p2.append(t2)\n",
    "    p3.append(t3)"
   ]
  },
  {
   "cell_type": "code",
   "execution_count": 57,
   "metadata": {},
   "outputs": [
    {
     "data": {
      "text/plain": [
       "4256661.698245614"
      ]
     },
     "execution_count": 57,
     "metadata": {},
     "output_type": "execute_result"
    }
   ],
   "source": [
    "p3[0][0]"
   ]
  },
  {
   "cell_type": "code",
   "execution_count": 58,
   "metadata": {},
   "outputs": [
    {
     "data": {
      "text/plain": [
       "[3875874.07028754,\n",
       " 2885962.240173724,\n",
       " 1428563.1220012214,\n",
       " 1066298.5262127088,\n",
       " 1107458.750628277,\n",
       " 1086008.5898558619]"
      ]
     },
     "execution_count": 58,
     "metadata": {},
     "output_type": "execute_result"
    }
   ],
   "source": [
    "p1"
   ]
  },
  {
   "cell_type": "code",
   "execution_count": 59,
   "metadata": {},
   "outputs": [],
   "source": [
    "dates = [datetime(2013,1,1,0,0,0,0), datetime(2014,1,1,0,0,0,0)]"
   ]
  },
  {
   "cell_type": "code",
   "execution_count": 60,
   "metadata": {},
   "outputs": [
    {
     "data": {
      "text/plain": [
       "datetime.datetime(2015, 1, 1, 0, 0)"
      ]
     },
     "execution_count": 60,
     "metadata": {},
     "output_type": "execute_result"
    }
   ],
   "source": [
    "y = 2015\n",
    "datetime(y,1,1,0,0,0,0)"
   ]
  },
  {
   "cell_type": "code",
   "execution_count": 61,
   "metadata": {},
   "outputs": [],
   "source": [
    "indx = ['2013','2014','2015','2016','2017','2018']\n",
    "vlu = [285,4283,19265,39211,61019,75937]"
   ]
  },
  {
   "cell_type": "code",
   "execution_count": 62,
   "metadata": {},
   "outputs": [
    {
     "data": {
      "text/plain": [
       "<BarContainer object of 6 artists>"
      ]
     },
     "execution_count": 62,
     "metadata": {},
     "output_type": "execute_result"
    },
    {
     "data": {
      "image/png": "[encoded data removed]",
      "text/plain": [
       "<Figure size 432x288 with 1 Axes>"
      ]
     },
     "metadata": {
      "needs_background": "light"
     },
     "output_type": "display_data"
    }
   ],
   "source": [
    "plt.bar(indx, vlu)"
   ]
  },
  {
   "cell_type": "code",
   "execution_count": 63,
   "metadata": {},
   "outputs": [
    {
     "data": {
      "text/plain": [
       "5450972.068802768"
      ]
     },
     "execution_count": 63,
     "metadata": {},
     "output_type": "execute_result"
    }
   ],
   "source": [
    "data_sorted.Amount_Gross_Order.std()"
   ]
  },
  {
   "cell_type": "code",
   "execution_count": 64,
   "metadata": {},
   "outputs": [
    {
     "data": {
      "text/plain": [
       "1458204.043815"
      ]
     },
     "execution_count": 64,
     "metadata": {},
     "output_type": "execute_result"
    }
   ],
   "source": [
    "data_sorted.Amount_Gross_Order.mean()"
   ]
  },
  {
   "cell_type": "code",
   "execution_count": 65,
   "metadata": {},
   "outputs": [
    {
     "data": {
      "text/plain": [
       "2126359033398.4185"
      ]
     },
     "execution_count": 65,
     "metadata": {},
     "output_type": "execute_result"
    }
   ],
   "source": [
    "1458204.043815 **2"
   ]
  },
  {
   "cell_type": "code",
   "execution_count": 66,
   "metadata": {},
   "outputs": [],
   "source": [
    "p = ()"
   ]
  },
  {
   "cell_type": "code",
   "execution_count": 67,
   "metadata": {},
   "outputs": [
    {
     "ename": "TypeError",
     "evalue": "'tuple' object does not support item assignment",
     "output_type": "error",
     "traceback": [
      "\u001b[1;31m---------------------------------------------------------------------------\u001b[0m",
      "\u001b[1;31mTypeError\u001b[0m                                 Traceback (most recent call last)",
      "\u001b[1;32m<ipython-input-67-6fce1d32faf7>\u001b[0m in \u001b[0;36m<module>\u001b[1;34m\u001b[0m\n\u001b[1;32m----> 1\u001b[1;33m \u001b[0mp\u001b[0m\u001b[1;33m[\u001b[0m\u001b[1;36m0\u001b[0m\u001b[1;33m]\u001b[0m \u001b[1;33m=\u001b[0m \u001b[1;36m1\u001b[0m\u001b[1;33m\u001b[0m\u001b[1;33m\u001b[0m\u001b[0m\n\u001b[0m\u001b[0;32m      2\u001b[0m \u001b[0mp\u001b[0m\u001b[1;33m[\u001b[0m\u001b[1;36m2\u001b[0m\u001b[1;33m]\u001b[0m \u001b[1;33m=\u001b[0m \u001b[1;36m2\u001b[0m\u001b[1;33m\u001b[0m\u001b[1;33m\u001b[0m\u001b[0m\n",
      "\u001b[1;31mTypeError\u001b[0m: 'tuple' object does not support item assignment"
     ]
    }
   ],
   "source": [
    "p[0] = 1\n",
    "p[2] = 2"
   ]
  },
  {
   "cell_type": "code",
   "execution_count": null,
   "metadata": {},
   "outputs": [],
   "source": []
  },
  {
   "cell_type": "code",
   "execution_count": 88,
   "metadata": {},
   "outputs": [],
   "source": [
    "x= data_sorted.newdate"
   ]
  },
  {
   "cell_type": "code",
   "execution_count": 70,
   "metadata": {},
   "outputs": [],
   "source": [
    "a = x.loc[0]"
   ]
  },
  {
   "cell_type": "code",
   "execution_count": 78,
   "metadata": {},
   "outputs": [
    {
     "data": {
      "text/plain": [
       "8"
      ]
     },
     "execution_count": 78,
     "metadata": {},
     "output_type": "execute_result"
    }
   ],
   "source": [
    "a.hour"
   ]
  },
  {
   "cell_type": "code",
   "execution_count": 79,
   "metadata": {},
   "outputs": [
    {
     "data": {
      "text/plain": [
       "Timestamp('2015-10-15 08:50:56')"
      ]
     },
     "execution_count": 79,
     "metadata": {},
     "output_type": "execute_result"
    }
   ],
   "source": [
    "x.loc[0]"
   ]
  },
  {
   "cell_type": "code",
   "execution_count": 83,
   "metadata": {},
   "outputs": [
    {
     "ename": "SyntaxError",
     "evalue": "invalid syntax (<ipython-input-83-89be65c1d988>, line 1)",
     "output_type": "error",
     "traceback": [
      "\u001b[1;36m  File \u001b[1;32m\"<ipython-input-83-89be65c1d988>\"\u001b[1;36m, line \u001b[1;32m1\u001b[0m\n\u001b[1;33m    x.loc[[1:3]]\u001b[0m\n\u001b[1;37m            ^\u001b[0m\n\u001b[1;31mSyntaxError\u001b[0m\u001b[1;31m:\u001b[0m invalid syntax\n"
     ]
    }
   ],
   "source": [
    "x.loc[[1:3]]"
   ]
  },
  {
   "cell_type": "code",
   "execution_count": 94,
   "metadata": {},
   "outputs": [],
   "source": [
    "x = x.apply(lambda y: y.hour)\n",
    "y = x.value_counts()"
   ]
  },
  {
   "cell_type": "code",
   "execution_count": 97,
   "metadata": {},
   "outputs": [],
   "source": [
    "y = x.value_counts()"
   ]
  },
  {
   "cell_type": "code",
   "execution_count": 99,
   "metadata": {},
   "outputs": [
    {
     "data": {
      "text/plain": [
       "13392"
      ]
     },
     "execution_count": 99,
     "metadata": {},
     "output_type": "execute_result"
    }
   ],
   "source": [
    "y.max()"
   ]
  },
  {
   "cell_type": "code",
   "execution_count": 101,
   "metadata": {},
   "outputs": [
    {
     "data": {
      "text/plain": [
       "Int64Index([ 0, 12, 13, 14, 11, 15, 23, 10, 16, 22, 21, 17, 20, 19, 18,  1,  9,\n",
       "             8,  2,  3,  7,  4,  6,  5],\n",
       "           dtype='int64')"
      ]
     },
     "execution_count": 101,
     "metadata": {},
     "output_type": "execute_result"
    }
   ],
   "source": [
    "y.keys()"
   ]
  },
  {
   "cell_type": "code",
   "execution_count": 102,
   "metadata": {},
   "outputs": [
    {
     "data": {
      "text/plain": [
       "array([13392, 13086, 12749, 12646, 12458, 11934, 11139, 10949, 10519,\n",
       "       10300,  9579,  9262,  9189,  9170,  8994,  8687,  8139,  4859,\n",
       "        4740,  2382,  2287,  1301,  1235,  1004], dtype=int64)"
      ]
     },
     "execution_count": 102,
     "metadata": {},
     "output_type": "execute_result"
    }
   ],
   "source": [
    "y.values"
   ]
  },
  {
   "cell_type": "code",
   "execution_count": 105,
   "metadata": {},
   "outputs": [],
   "source": [
    "y= y.sort_index()"
   ]
  },
  {
   "cell_type": "code",
   "execution_count": 110,
   "metadata": {},
   "outputs": [
    {
     "data": {
      "text/plain": [
       "Text(0.5, 1.0, 'hourly buy count')"
      ]
     },
     "execution_count": 110,
     "metadata": {},
     "output_type": "execute_result"
    },
    {
     "data": {
      "image/png": "[encoded data removed]",
      "text/plain": [
       "<Figure size 432x288 with 1 Axes>"
      ]
     },
     "metadata": {
      "needs_background": "light"
     },
     "output_type": "display_data"
    }
   ],
   "source": [
    "plt.bar(list(y.keys()), y.values)\n",
    "plt.title('hourly buy count')"
   ]
  },
  {
   "cell_type": "code",
   "execution_count": 116,
   "metadata": {},
   "outputs": [
    {
     "data": {
      "text/plain": [
       "Text(0.5, 1.0, 'dayli buy count')"
      ]
     },
     "execution_count": 116,
     "metadata": {},
     "output_type": "execute_result"
    },
    {
     "data": {
      "image/png": "[encoded data removed]",
      "text/plain": [
       "<Figure size 432x288 with 1 Axes>"
      ]
     },
     "metadata": {
      "needs_background": "light"
     },
     "output_type": "display_data"
    }
   ],
   "source": [
    "x_= data_sorted.newdate\n",
    "x = x_.apply(lambda z: z.day)\n",
    "y = x.value_counts()\n",
    "plt.bar(list(y.keys()), y.values)\n",
    "plt.title('dayli buy count')"
   ]
  },
  {
   "cell_type": "code",
   "execution_count": 121,
   "metadata": {},
   "outputs": [
    {
     "data": {
      "text/plain": [
       "Text(0.5, 1.0, 'monthly buy count')"
      ]
     },
     "execution_count": 121,
     "metadata": {},
     "output_type": "execute_result"
    },
    {
     "data": {
      "image/png": "[encoded data removed]",
      "text/plain": [
       "<Figure size 432x288 with 1 Axes>"
      ]
     },
     "metadata": {
      "needs_background": "light"
     },
     "output_type": "display_data"
    }
   ],
   "source": [
    "x_= data_sorted.newdate\n",
    "x = x_.apply(lambda z: z.month)\n",
    "y = x.value_counts()\n",
    "plt.bar(list(y.keys()), y.values)\n",
    "plt.title('monthly buy count')"
   ]
  },
  {
   "cell_type": "code",
   "execution_count": 119,
   "metadata": {},
   "outputs": [
    {
     "data": {
      "text/plain": [
       "2"
      ]
     },
     "execution_count": 119,
     "metadata": {},
     "output_type": "execute_result"
    }
   ],
   "source": [
    "x_.loc[1].month"
   ]
  },
  {
   "cell_type": "code",
   "execution_count": 120,
   "metadata": {},
   "outputs": [
    {
     "data": {
      "text/plain": [
       "Timestamp('2018-02-11 00:29:26')"
      ]
     },
     "execution_count": 120,
     "metadata": {},
     "output_type": "execute_result"
    }
   ],
   "source": [
    "x_.loc[1]"
   ]
  },
  {
   "cell_type": "code",
   "execution_count": 122,
   "metadata": {},
   "outputs": [
    {
     "data": {
      "text/plain": [
       "Text(0.5, 1.0, 'yearly buy count')"
      ]
     },
     "execution_count": 122,
     "metadata": {},
     "output_type": "execute_result"
    },
    {
     "data": {
      "image/png": "[encoded data removed]",
      "text/plain": [
       "<Figure size 432x288 with 1 Axes>"
      ]
     },
     "metadata": {
      "needs_background": "light"
     },
     "output_type": "display_data"
    }
   ],
   "source": [
    "x_= data_sorted.newdate\n",
    "x = x_.apply(lambda z: z.year)\n",
    "y = x.value_counts()\n",
    "plt.bar(list(y.keys()), y.values)\n",
    "plt.title('yearly buy count')"
   ]
  },
  {
   "cell_type": "code",
   "execution_count": 131,
   "metadata": {},
   "outputs": [],
   "source": [
    "data2 = pd.read_excel('E:/Scientific_DS/Datasets/digikala/digikala/5-awte8wbd.xlsx')"
   ]
  },
  {
   "cell_type": "code",
   "execution_count": 132,
   "metadata": {},
   "outputs": [
    {
     "data": {
      "text/html": [
       "<div>\n",
       "<style scoped>\n",
       "    .dataframe tbody tr th:only-of-type {\n",
       "        vertical-align: middle;\n",
       "    }\n",
       "\n",
       "    .dataframe tbody tr th {\n",
       "        vertical-align: top;\n",
       "    }\n",
       "\n",
       "    .dataframe thead th {\n",
       "        text-align: right;\n",
       "    }\n",
       "</style>\n",
       "<table border=\"1\" class=\"dataframe\">\n",
       "  <thead>\n",
       "    <tr style=\"text-align: right;\">\n",
       "      <th></th>\n",
       "      <th>id</th>\n",
       "      <th>product_title_fa</th>\n",
       "      <th>product_title_en</th>\n",
       "      <th>url_code</th>\n",
       "      <th>title_alt</th>\n",
       "      <th>category_title_fa</th>\n",
       "      <th>category_keywords</th>\n",
       "      <th>brand_name_fa</th>\n",
       "      <th>brand_name_en</th>\n",
       "      <th>product_attributes</th>\n",
       "    </tr>\n",
       "  </thead>\n",
       "  <tbody>\n",
       "    <tr>\n",
       "      <th>0</th>\n",
       "      <td>723302</td>\n",
       "      <td>ماگ حرارتی لومانا مدل عرفانه کد MAG1042</td>\n",
       "      <td>NaN</td>\n",
       "      <td>ماگ-حرارتی-لومانا-مدل-عرفانه-کد-mag1042</td>\n",
       "      <td>mug، لیوان ، ماگ ، فنجان ، لیوان دسته دار ، لو...</td>\n",
       "      <td>ماگ، لیوان و فنجان</td>\n",
       "      <td>ماگ، لیوان و فنجان CupandMug</td>\n",
       "      <td>لومانا</td>\n",
       "      <td>Lomana</td>\n",
       "      <td>[{\"Key\":\"وزن بسته‌بندی\",\"Value\":\"480\"},{\"Key\":...</td>\n",
       "    </tr>\n",
       "    <tr>\n",
       "      <th>1</th>\n",
       "      <td>727089</td>\n",
       "      <td>ست آبکش و آبگیر تیتیز مدل AP-9141 سایز متوسط</td>\n",
       "      <td>NaN</td>\n",
       "      <td>ست-آبکش-و-آبگیر-تیتیز-مدل-ap-9141-سایز-متوسط</td>\n",
       "      <td>;hsi, steel, کاسه، کاسه بامبو، لگن، کالا خانه ...</td>\n",
       "      <td>آبکش و آبگیر</td>\n",
       "      <td>آبکش و آبگیر VirgoBasin</td>\n",
       "      <td>تیتیز</td>\n",
       "      <td>Titiz</td>\n",
       "      <td>[{\"Key\":\"دستگیره\",\"Value\":\"1 جفت\"},{\"Key\":\"نوع...</td>\n",
       "    </tr>\n",
       "    <tr>\n",
       "      <th>2</th>\n",
       "      <td>727096</td>\n",
       "      <td>روغن مرطوب کننده کدلی مدل Divine oil حجم 50 می...</td>\n",
       "      <td>NaN</td>\n",
       "      <td>روغن-مرطوب-کننده-کدلی-مدل-divine-oil-حجم-50-می...</td>\n",
       "      <td>NaN</td>\n",
       "      <td>روغن صورت</td>\n",
       "      <td>روغن صورت Face-Oil</td>\n",
       "      <td>کدلی</td>\n",
       "      <td>CAUDALIE</td>\n",
       "      <td>[{\"Key\":\"حجم\",\"Value\":\"50\"},{\"Key\":\"نوع عصاره\"...</td>\n",
       "    </tr>\n",
       "    <tr>\n",
       "      <th>3</th>\n",
       "      <td>727803</td>\n",
       "      <td>ست لحاف پوپلین هوبی مدل اما یکنفره چهار تکه کاوری</td>\n",
       "      <td>Hobby Emma Quilt Single Set - 4 Pieces</td>\n",
       "      <td>ست-لحاف-پوپلین-هوبی-مدل-اما-یکنفره-چهار-تکه-کاوری</td>\n",
       "      <td>روتختی اسپرت، اما، emma، روتختی یکنفره، لحاف ی...</td>\n",
       "      <td>سرویس خواب</td>\n",
       "      <td>سرویس خواب SleepSet</td>\n",
       "      <td>هوبی</td>\n",
       "      <td>Hobby</td>\n",
       "      <td>[{\"Key\":\"ابعاد رو بالشی\",\"Value\":\"50×70\"},{\"Ke...</td>\n",
       "    </tr>\n",
       "    <tr>\n",
       "      <th>4</th>\n",
       "      <td>725222</td>\n",
       "      <td>ماگ آبنبات رنگی مدل AR0143</td>\n",
       "      <td>NaN</td>\n",
       "      <td>ماگ-آبنبات-رنگی-مدل-ar0143</td>\n",
       "      <td>ماگ آبنبات رنگی،شذدشذشفقشدله،Mag Abnabatrangi</td>\n",
       "      <td>ماگ، لیوان و فنجان</td>\n",
       "      <td>ماگ، لیوان و فنجان CupandMug</td>\n",
       "      <td>متفرقه</td>\n",
       "      <td>Miscellaneous</td>\n",
       "      <td>[{\"Key\":\"در\",\"Value\":\"ندارد\"},{\"Key\":\"جنس\",\"Va...</td>\n",
       "    </tr>\n",
       "  </tbody>\n",
       "</table>\n",
       "</div>"
      ],
      "text/plain": [
       "       id                                   product_title_fa  \\\n",
       "0  723302            ماگ حرارتی لومانا مدل عرفانه کد MAG1042   \n",
       "1  727089       ست آبکش و آبگیر تیتیز مدل AP-9141 سایز متوسط   \n",
       "2  727096  روغن مرطوب کننده کدلی مدل Divine oil حجم 50 می...   \n",
       "3  727803  ست لحاف پوپلین هوبی مدل اما یکنفره چهار تکه کاوری   \n",
       "4  725222                         ماگ آبنبات رنگی مدل AR0143   \n",
       "\n",
       "                         product_title_en  \\\n",
       "0                                     NaN   \n",
       "1                                     NaN   \n",
       "2                                     NaN   \n",
       "3  Hobby Emma Quilt Single Set - 4 Pieces   \n",
       "4                                     NaN   \n",
       "\n",
       "                                            url_code  \\\n",
       "0            ماگ-حرارتی-لومانا-مدل-عرفانه-کد-mag1042   \n",
       "1       ست-آبکش-و-آبگیر-تیتیز-مدل-ap-9141-سایز-متوسط   \n",
       "2  روغن-مرطوب-کننده-کدلی-مدل-divine-oil-حجم-50-می...   \n",
       "3  ست-لحاف-پوپلین-هوبی-مدل-اما-یکنفره-چهار-تکه-کاوری   \n",
       "4                         ماگ-آبنبات-رنگی-مدل-ar0143   \n",
       "\n",
       "                                           title_alt   category_title_fa  \\\n",
       "0  mug، لیوان ، ماگ ، فنجان ، لیوان دسته دار ، لو...  ماگ، لیوان و فنجان   \n",
       "1  ;hsi, steel, کاسه، کاسه بامبو، لگن، کالا خانه ...        آبکش و آبگیر   \n",
       "2                                                NaN           روغن صورت   \n",
       "3  روتختی اسپرت، اما، emma، روتختی یکنفره، لحاف ی...          سرویس خواب   \n",
       "4      ماگ آبنبات رنگی،شذدشذشفقشدله،Mag Abnabatrangi  ماگ، لیوان و فنجان   \n",
       "\n",
       "              category_keywords brand_name_fa  brand_name_en  \\\n",
       "0  ماگ، لیوان و فنجان CupandMug        لومانا         Lomana   \n",
       "1       آبکش و آبگیر VirgoBasin         تیتیز          Titiz   \n",
       "2            روغن صورت Face-Oil          کدلی       CAUDALIE   \n",
       "3           سرویس خواب SleepSet          هوبی          Hobby   \n",
       "4  ماگ، لیوان و فنجان CupandMug        متفرقه  Miscellaneous   \n",
       "\n",
       "                                  product_attributes  \n",
       "0  [{\"Key\":\"وزن بسته‌بندی\",\"Value\":\"480\"},{\"Key\":...  \n",
       "1  [{\"Key\":\"دستگیره\",\"Value\":\"1 جفت\"},{\"Key\":\"نوع...  \n",
       "2  [{\"Key\":\"حجم\",\"Value\":\"50\"},{\"Key\":\"نوع عصاره\"...  \n",
       "3  [{\"Key\":\"ابعاد رو بالشی\",\"Value\":\"50×70\"},{\"Ke...  \n",
       "4  [{\"Key\":\"در\",\"Value\":\"ندارد\"},{\"Key\":\"جنس\",\"Va...  "
      ]
     },
     "execution_count": 132,
     "metadata": {},
     "output_type": "execute_result"
    }
   ],
   "source": [
    "data2.head()"
   ]
  },
  {
   "cell_type": "code",
   "execution_count": null,
   "metadata": {},
   "outputs": [],
   "source": []
  }
 ],
 "metadata": {
  "kernelspec": {
   "display_name": "Python 3",
   "language": "python",
   "name": "python3"
  },
  "language_info": {
   "codemirror_mode": {
    "name": "ipython",
    "version": 3
   },
   "file_extension": ".py",
   "mimetype": "text/x-python",
   "name": "python",
   "nbconvert_exporter": "python",
   "pygments_lexer": "ipython3",
   "version": "3.7.3"
  }
 },
 "nbformat": 4,
 "nbformat_minor": 2
}
